{
 "cells": [
  {
   "cell_type": "markdown",
   "id": "5aff0f47",
   "metadata": {},
   "source": [
    "# Customer and Product Insights for Model Car Sales\n"
   ]
  },
  {
   "cell_type": "markdown",
   "id": "5008b30d",
   "metadata": {},
   "source": [
    "## Project Goal\n",
    "\n",
    "The goal of this project is to analyze data from a sales records database for scale model cars and extract information for decision-making. The following questions will be answered:\n",
    "\n",
    "-   [Question 1: Which products require increased or decreased order quantities?](#which-products-require-increased-or-decreased-order-quantities)\n",
    "-   [Question 2: How can marketing and communication strategies be tailored to customer behaviors?](#how-can-marketing-and-communication-strategies-be-tailored-to-customer-behaviors)\n",
    "-   [Question 3: What is an appropriate budget for acquiring new customers?](#what-is-an-appropriate-budget-for-acquiring-new-customers)"
   ]
  },
  {
   "cell_type": "markdown",
   "id": "136d038f",
   "metadata": {},
   "source": [
    "## Database Schema\n",
    "\n",
    "![Database Schema](../project-files/images/db-schema.png)\n",
    "\n",
    "The database contains eight tables:\n",
    "\n",
    "-   `Customers`: customer data\n",
    "-   `Employees`: all employee information\n",
    "-   `Offices`: sales office information\n",
    "-   `Orders`: customers' sales orders\n",
    "-   `OrderDetails`: sales order line for each sales order\n",
    "-   `Payments`: customers' payment records\n",
    "-   `Products`: a list of scale model cars\n",
    "-   `ProductLines`: a list of product line categories"
   ]
  },
  {
   "cell_type": "markdown",
   "id": "b7630397",
   "metadata": {},
   "source": [
    "## Load SQL extension for IPython and connect to SQLite database"
   ]
  },
  {
   "cell_type": "markdown",
   "id": "85f01278",
   "metadata": {},
   "source": [
    "The following lines of code will provide the ability to write SQL queries in the Jupyter Notebook:"
   ]
  },
  {
   "cell_type": "code",
   "execution_count": 1,
   "id": "4b44abbd",
   "metadata": {},
   "outputs": [],
   "source": [
    "# This command loads the sql extension for IPython\n",
    "%load_ext sql\n",
    "\n",
    "# This command establishes a connection to the Arbor Foods database\n",
    "%sql sqlite:///../project-files/stores.db"
   ]
  },
  {
   "cell_type": "markdown",
   "id": "4bb4c97b",
   "metadata": {},
   "source": [
    "## Data Analysis\n"
   ]
  },
  {
   "cell_type": "markdown",
   "id": "ef16dabc",
   "metadata": {},
   "source": [
    "Before analyzing the data, I'm going to write a query that displays each table's name as a string, the number of attributes per table as an integer, and the number of rows in each table.\n"
   ]
  },
  {
   "cell_type": "code",
   "execution_count": 2,
   "id": "235db2b8",
   "metadata": {},
   "outputs": [
    {
     "name": "stdout",
     "output_type": "stream",
     "text": [
      " * sqlite:///../project-files/stores.db\n",
      "Done.\n"
     ]
    },
    {
     "data": {
      "text/html": [
       "<table>\n",
       "    <thead>\n",
       "        <tr>\n",
       "            <th>table_name</th>\n",
       "            <th>number_of_attributes</th>\n",
       "            <th>number_of_rows</th>\n",
       "        </tr>\n",
       "    </thead>\n",
       "    <tbody>\n",
       "        <tr>\n",
       "            <td>Customers</td>\n",
       "            <td>13</td>\n",
       "            <td>122</td>\n",
       "        </tr>\n",
       "        <tr>\n",
       "            <td>Products</td>\n",
       "            <td>9</td>\n",
       "            <td>110</td>\n",
       "        </tr>\n",
       "        <tr>\n",
       "            <td>ProductLines</td>\n",
       "            <td>4</td>\n",
       "            <td>7</td>\n",
       "        </tr>\n",
       "        <tr>\n",
       "            <td>Orders</td>\n",
       "            <td>7</td>\n",
       "            <td>326</td>\n",
       "        </tr>\n",
       "        <tr>\n",
       "            <td>OrderDetails</td>\n",
       "            <td>5</td>\n",
       "            <td>2996</td>\n",
       "        </tr>\n",
       "        <tr>\n",
       "            <td>Payments</td>\n",
       "            <td>4</td>\n",
       "            <td>273</td>\n",
       "        </tr>\n",
       "        <tr>\n",
       "            <td>Employees</td>\n",
       "            <td>8</td>\n",
       "            <td>23</td>\n",
       "        </tr>\n",
       "        <tr>\n",
       "            <td>Offices</td>\n",
       "            <td>9</td>\n",
       "            <td>7</td>\n",
       "        </tr>\n",
       "    </tbody>\n",
       "</table>"
      ],
      "text/plain": [
       "[('Customers', 13, 122),\n",
       " ('Products', 9, 110),\n",
       " ('ProductLines', 4, 7),\n",
       " ('Orders', 7, 326),\n",
       " ('OrderDetails', 5, 2996),\n",
       " ('Payments', 4, 273),\n",
       " ('Employees', 8, 23),\n",
       " ('Offices', 9, 7)]"
      ]
     },
     "execution_count": 2,
     "metadata": {},
     "output_type": "execute_result"
    }
   ],
   "source": [
    "%%sql\n",
    "SELECT 'Customers' AS table_name,\n",
    "       (SELECT COUNT(*) FROM pragma_table_info('customers')) AS number_of_attributes,\n",
    "       COUNT(*) AS number_of_rows\n",
    "  FROM customers\n",
    "  \n",
    " UNION ALL\n",
    "\n",
    "SELECT 'Products' AS table_name,\n",
    "       (SELECT COUNT(*) FROM pragma_table_info('products')) AS number_of_attributes,\n",
    "       COUNT(*) AS number_of_rows\n",
    "  FROM products\n",
    " \n",
    " UNION ALL\n",
    "\n",
    "SELECT 'ProductLines' AS table_name,\n",
    "       (SELECT COUNT(*) FROM pragma_table_info('productlines')) AS number_of_attributes,\n",
    "       COUNT(*) AS number_of_rows\n",
    "  FROM productlines\n",
    "  \n",
    " UNION ALL\n",
    " \n",
    "SELECT 'Orders' AS table_name,\n",
    "       (SELECT COUNT(*) FROM pragma_table_info('orders')) AS number_of_attributes,\n",
    "       COUNT(*) AS number_of_rows\n",
    "  FROM orders\n",
    " \n",
    " UNION ALL\n",
    " \n",
    "SELECT 'OrderDetails' AS table_name,\n",
    "       (SELECT COUNT(*) FROM pragma_table_info('orderdetails')) AS number_of_attributes,\n",
    "       COUNT(*) AS number_of_rows\n",
    "  FROM orderdetails\n",
    " \n",
    " UNION ALL\n",
    " \n",
    "SELECT 'Payments' AS table_name,\n",
    "       (SELECT COUNT(*) FROM pragma_table_info('payments')) AS number_of_attributes,\n",
    "       COUNT(*) AS number_of_rows\n",
    "  FROM payments\n",
    " \n",
    " UNION ALL\n",
    " \n",
    "SELECT 'Employees' AS table_name,\n",
    "       (SELECT COUNT(*) FROM pragma_table_info('employees')) AS number_of_attributes,\n",
    "       COUNT(*) AS number_of_rows\n",
    "  FROM employees\n",
    " \n",
    " UNION ALL\n",
    " \n",
    "SELECT 'Offices' AS table_name,\n",
    "       (SELECT COUNT(*) FROM pragma_table_info('offices')) AS number_of_attributes,\n",
    "       COUNT(*) AS number_of_rows\n",
    "  FROM offices;"
   ]
  },
  {
   "cell_type": "markdown",
   "id": "e9185141",
   "metadata": {},
   "source": [
    "### Which products require increased or decreased order quantities?"
   ]
  },
  {
   "cell_type": "markdown",
   "id": "7784052d",
   "metadata": {},
   "source": [
    "To answer this question, the restocking priority for each product needs to be determined. Determining the restocking priority requires knowing if a product has low stock and its performance.\n",
    "\n",
    "Low stock represents the quotient of the total quantity of each product ordered divided by the quantity of that product currently in stock.\n",
    "\n",
    "Product performance represents the total sales for each product.\n",
    "\n",
    "Calculating the low stock and product performance necessitates the following computations:\n",
    "\n",
    "$low stock = \\frac{SUM(quantityOrdered)}{quantityInStock}$ and $product performance = SUM(quantityOrdered \\times priceEach)$"
   ]
  },
  {
   "cell_type": "markdown",
   "id": "1d2e7943",
   "metadata": {},
   "source": [
    "First, I'll write a query to compute the low stock for each product using a correlated subquery:"
   ]
  },
  {
   "cell_type": "code",
   "execution_count": 3,
   "id": "1c911262",
   "metadata": {},
   "outputs": [
    {
     "name": "stdout",
     "output_type": "stream",
     "text": [
      " * sqlite:///../project-files/stores.db\n",
      "Done.\n"
     ]
    },
    {
     "data": {
      "text/html": [
       "<table>\n",
       "    <thead>\n",
       "        <tr>\n",
       "            <th>productCode</th>\n",
       "            <th>productName</th>\n",
       "            <th>low_stock</th>\n",
       "        </tr>\n",
       "    </thead>\n",
       "    <tbody>\n",
       "        <tr>\n",
       "            <td>S24_2000</td>\n",
       "            <td>1960 BSA Gold Star DBD34</td>\n",
       "            <td>67.67</td>\n",
       "        </tr>\n",
       "        <tr>\n",
       "            <td>S12_1099</td>\n",
       "            <td>1968 Ford Mustang</td>\n",
       "            <td>13.72</td>\n",
       "        </tr>\n",
       "        <tr>\n",
       "            <td>S32_4289</td>\n",
       "            <td>1928 Ford Phaeton Deluxe</td>\n",
       "            <td>7.15</td>\n",
       "        </tr>\n",
       "        <tr>\n",
       "            <td>S32_1374</td>\n",
       "            <td>1997 BMW F650 ST</td>\n",
       "            <td>5.7</td>\n",
       "        </tr>\n",
       "        <tr>\n",
       "            <td>S72_3212</td>\n",
       "            <td>Pont Yacht</td>\n",
       "            <td>2.31</td>\n",
       "        </tr>\n",
       "        <tr>\n",
       "            <td>S700_3167</td>\n",
       "            <td>F/A 18 Hornet 1/72</td>\n",
       "            <td>1.9</td>\n",
       "        </tr>\n",
       "        <tr>\n",
       "            <td>S50_4713</td>\n",
       "            <td>2002 Yamaha YZR M1</td>\n",
       "            <td>1.65</td>\n",
       "        </tr>\n",
       "        <tr>\n",
       "            <td>S18_2795</td>\n",
       "            <td>1928 Mercedes-Benz SSK</td>\n",
       "            <td>1.61</td>\n",
       "        </tr>\n",
       "        <tr>\n",
       "            <td>S18_2248</td>\n",
       "            <td>1911 Ford Town Car</td>\n",
       "            <td>1.54</td>\n",
       "        </tr>\n",
       "        <tr>\n",
       "            <td>S700_1938</td>\n",
       "            <td>The Mayflower</td>\n",
       "            <td>1.22</td>\n",
       "        </tr>\n",
       "    </tbody>\n",
       "</table>"
      ],
      "text/plain": [
       "[('S24_2000', '1960 BSA Gold Star DBD34', 67.67),\n",
       " ('S12_1099', '1968 Ford Mustang', 13.72),\n",
       " ('S32_4289', '1928 Ford Phaeton Deluxe', 7.15),\n",
       " ('S32_1374', '1997 BMW F650 ST', 5.7),\n",
       " ('S72_3212', 'Pont Yacht', 2.31),\n",
       " ('S700_3167', 'F/A 18 Hornet 1/72', 1.9),\n",
       " ('S50_4713', '2002 Yamaha YZR M1', 1.65),\n",
       " ('S18_2795', '1928 Mercedes-Benz SSK', 1.61),\n",
       " ('S18_2248', '1911 Ford Town Car', 1.54),\n",
       " ('S700_1938', 'The Mayflower', 1.22)]"
      ]
     },
     "execution_count": 3,
     "metadata": {},
     "output_type": "execute_result"
    }
   ],
   "source": [
    "%%sql\n",
    "SELECT p.productCode,\n",
    "       p.productName,\n",
    "\t   ROUND(SUM(o.quantityOrdered) * 1.0 / p.quantityInStock, 2) AS low_stock\n",
    "  FROM products p\n",
    "  JOIN orderdetails o\n",
    "    ON p.productCode = o.productCode\n",
    " GROUP BY p.productCode, p.productName\n",
    " ORDER BY low_stock DESC\n",
    " LIMIT 10;"
   ]
  },
  {
   "cell_type": "markdown",
   "id": "ba437c16",
   "metadata": {},
   "source": [
    "Next, I'll write a query to compute the product performance for each product:"
   ]
  },
  {
   "cell_type": "code",
   "execution_count": 4,
   "id": "4a3dbb71",
   "metadata": {},
   "outputs": [
    {
     "name": "stdout",
     "output_type": "stream",
     "text": [
      " * sqlite:///../project-files/stores.db\n",
      "Done.\n"
     ]
    },
    {
     "data": {
      "text/html": [
       "<table>\n",
       "    <thead>\n",
       "        <tr>\n",
       "            <th>productCode</th>\n",
       "            <th>productName</th>\n",
       "            <th>product_performance</th>\n",
       "        </tr>\n",
       "    </thead>\n",
       "    <tbody>\n",
       "        <tr>\n",
       "            <td>S18_3232</td>\n",
       "            <td>1992 Ferrari 360 Spider red</td>\n",
       "            <td>276839.98</td>\n",
       "        </tr>\n",
       "        <tr>\n",
       "            <td>S12_1108</td>\n",
       "            <td>2001 Ferrari Enzo</td>\n",
       "            <td>190755.86000000002</td>\n",
       "        </tr>\n",
       "        <tr>\n",
       "            <td>S10_1949</td>\n",
       "            <td>1952 Alpine Renault 1300</td>\n",
       "            <td>190017.96</td>\n",
       "        </tr>\n",
       "        <tr>\n",
       "            <td>S10_4698</td>\n",
       "            <td>2003 Harley-Davidson Eagle Drag Bike</td>\n",
       "            <td>170686.0</td>\n",
       "        </tr>\n",
       "        <tr>\n",
       "            <td>S12_1099</td>\n",
       "            <td>1968 Ford Mustang</td>\n",
       "            <td>161531.48</td>\n",
       "        </tr>\n",
       "        <tr>\n",
       "            <td>S12_3891</td>\n",
       "            <td>1969 Ford Falcon</td>\n",
       "            <td>152543.02</td>\n",
       "        </tr>\n",
       "        <tr>\n",
       "            <td>S18_1662</td>\n",
       "            <td>1980s Black Hawk Helicopter</td>\n",
       "            <td>144959.91</td>\n",
       "        </tr>\n",
       "        <tr>\n",
       "            <td>S18_2238</td>\n",
       "            <td>1998 Chrysler Plymouth Prowler</td>\n",
       "            <td>142530.63</td>\n",
       "        </tr>\n",
       "        <tr>\n",
       "            <td>S18_1749</td>\n",
       "            <td>1917 Grand Touring Sedan</td>\n",
       "            <td>140535.6</td>\n",
       "        </tr>\n",
       "        <tr>\n",
       "            <td>S12_2823</td>\n",
       "            <td>2002 Suzuki XREO</td>\n",
       "            <td>135767.03</td>\n",
       "        </tr>\n",
       "    </tbody>\n",
       "</table>"
      ],
      "text/plain": [
       "[('S18_3232', '1992 Ferrari 360 Spider red', 276839.98),\n",
       " ('S12_1108', '2001 Ferrari Enzo', 190755.86000000002),\n",
       " ('S10_1949', '1952 Alpine Renault 1300', 190017.96),\n",
       " ('S10_4698', '2003 Harley-Davidson Eagle Drag Bike', 170686.0),\n",
       " ('S12_1099', '1968 Ford Mustang', 161531.48),\n",
       " ('S12_3891', '1969 Ford Falcon', 152543.02),\n",
       " ('S18_1662', '1980s Black Hawk Helicopter', 144959.91),\n",
       " ('S18_2238', '1998 Chrysler Plymouth Prowler', 142530.63),\n",
       " ('S18_1749', '1917 Grand Touring Sedan', 140535.6),\n",
       " ('S12_2823', '2002 Suzuki XREO', 135767.03)]"
      ]
     },
     "execution_count": 4,
     "metadata": {},
     "output_type": "execute_result"
    }
   ],
   "source": [
    "%%sql\n",
    "SELECT o.productCode,\n",
    "\t   p.productName,\n",
    "\t   SUM(o.quantityOrdered * o.priceEach) AS product_performance\n",
    "  FROM orderdetails AS o\n",
    "  JOIN products AS p\n",
    "    ON p.productCode = o.productCode\n",
    " GROUP BY o.productCode\n",
    " ORDER BY product_performance DESC\n",
    " LIMIT 10;"
   ]
  },
  {
   "cell_type": "markdown",
   "id": "d77d9ac0",
   "metadata": {},
   "source": [
    "Finally, I will combine the previous queries using a Common Table Expression (CTE) to display priority products for restocking using the `IN` operator:"
   ]
  },
  {
   "cell_type": "code",
   "execution_count": 5,
   "id": "5b98995c",
   "metadata": {},
   "outputs": [
    {
     "name": "stdout",
     "output_type": "stream",
     "text": [
      " * sqlite:///../project-files/stores.db\n",
      "Done.\n"
     ]
    },
    {
     "data": {
      "text/html": [
       "<table>\n",
       "    <thead>\n",
       "        <tr>\n",
       "            <th>productCode</th>\n",
       "            <th>productName</th>\n",
       "            <th>productLine</th>\n",
       "            <th>low_stock</th>\n",
       "        </tr>\n",
       "    </thead>\n",
       "    <tbody>\n",
       "        <tr>\n",
       "            <td>S24_2000</td>\n",
       "            <td>1960 BSA Gold Star DBD34</td>\n",
       "            <td>Motorcycles</td>\n",
       "            <td>67.67</td>\n",
       "        </tr>\n",
       "        <tr>\n",
       "            <td>S12_1099</td>\n",
       "            <td>1968 Ford Mustang</td>\n",
       "            <td>Classic Cars</td>\n",
       "            <td>13.72</td>\n",
       "        </tr>\n",
       "        <tr>\n",
       "            <td>S32_4289</td>\n",
       "            <td>1928 Ford Phaeton Deluxe</td>\n",
       "            <td>Vintage Cars</td>\n",
       "            <td>7.15</td>\n",
       "        </tr>\n",
       "        <tr>\n",
       "            <td>S32_1374</td>\n",
       "            <td>1997 BMW F650 ST</td>\n",
       "            <td>Motorcycles</td>\n",
       "            <td>5.7</td>\n",
       "        </tr>\n",
       "        <tr>\n",
       "            <td>S72_3212</td>\n",
       "            <td>Pont Yacht</td>\n",
       "            <td>Ships</td>\n",
       "            <td>2.31</td>\n",
       "        </tr>\n",
       "        <tr>\n",
       "            <td>S700_3167</td>\n",
       "            <td>F/A 18 Hornet 1/72</td>\n",
       "            <td>Planes</td>\n",
       "            <td>1.9</td>\n",
       "        </tr>\n",
       "        <tr>\n",
       "            <td>S50_4713</td>\n",
       "            <td>2002 Yamaha YZR M1</td>\n",
       "            <td>Motorcycles</td>\n",
       "            <td>1.65</td>\n",
       "        </tr>\n",
       "        <tr>\n",
       "            <td>S18_2795</td>\n",
       "            <td>1928 Mercedes-Benz SSK</td>\n",
       "            <td>Vintage Cars</td>\n",
       "            <td>1.61</td>\n",
       "        </tr>\n",
       "        <tr>\n",
       "            <td>S18_2248</td>\n",
       "            <td>1911 Ford Town Car</td>\n",
       "            <td>Vintage Cars</td>\n",
       "            <td>1.54</td>\n",
       "        </tr>\n",
       "        <tr>\n",
       "            <td>S700_1938</td>\n",
       "            <td>The Mayflower</td>\n",
       "            <td>Ships</td>\n",
       "            <td>1.22</td>\n",
       "        </tr>\n",
       "    </tbody>\n",
       "</table>"
      ],
      "text/plain": [
       "[('S24_2000', '1960 BSA Gold Star DBD34', 'Motorcycles', 67.67),\n",
       " ('S12_1099', '1968 Ford Mustang', 'Classic Cars', 13.72),\n",
       " ('S32_4289', '1928 Ford Phaeton Deluxe', 'Vintage Cars', 7.15),\n",
       " ('S32_1374', '1997 BMW F650 ST', 'Motorcycles', 5.7),\n",
       " ('S72_3212', 'Pont Yacht', 'Ships', 2.31),\n",
       " ('S700_3167', 'F/A 18 Hornet 1/72', 'Planes', 1.9),\n",
       " ('S50_4713', '2002 Yamaha YZR M1', 'Motorcycles', 1.65),\n",
       " ('S18_2795', '1928 Mercedes-Benz SSK', 'Vintage Cars', 1.61),\n",
       " ('S18_2248', '1911 Ford Town Car', 'Vintage Cars', 1.54),\n",
       " ('S700_1938', 'The Mayflower', 'Ships', 1.22)]"
      ]
     },
     "execution_count": 5,
     "metadata": {},
     "output_type": "execute_result"
    }
   ],
   "source": [
    "%%sql\n",
    "WITH\n",
    "low_stock AS (\n",
    "\tSELECT p.productCode, \n",
    "\t\t   p.productName, \n",
    "\t\t   ROUND(SUM(o.quantityOrdered) * 1.0 / p.quantityInStock, 2) AS low_stock\n",
    "\t  FROM products p\n",
    "\t  JOIN orderdetails o \n",
    "\t\tON p.productCode = o.productCode \n",
    "\t GROUP BY p.productCode, p.productName\n",
    "),\n",
    "product_performance AS (\n",
    "\tSELECT o.productCode,\n",
    "\t\t   p.productName,\n",
    "\t\t   SUM(o.quantityOrdered * o.priceEach) AS product_performance\n",
    "\t  FROM orderdetails AS o\n",
    "\t  JOIN products AS p\n",
    "\t\tON p.productCode = o.productCode\n",
    "\t GROUP BY o.productCode\n",
    "),\n",
    "priority_products AS (\n",
    "\tSELECT productCode\n",
    "\t  FROM low_stock\n",
    "\t WHERE low_stock < 0.5\n",
    "\t UNION ALL\n",
    "\tSELECT productCode\n",
    "\t  FROM product_performance\n",
    ")\n",
    "\n",
    "SELECT p.productCode,\n",
    "\t   p.productName,\n",
    "\t   p.productLine,\n",
    "\t   l.low_stock\n",
    "  FROM low_stock AS l\n",
    "  JOIN products AS p\n",
    "    ON p.productCode = l.productCode\n",
    " WHERE l.productCode IN (SELECT productCode\n",
    "\t\t\t\t\t\t   FROM priority_products)\n",
    " ORDER BY l.low_stock DESC, p.productName\n",
    " LIMIT 10;"
   ]
  },
  {
   "cell_type": "markdown",
   "id": "c8469a45",
   "metadata": {},
   "source": [
    "### How can marketing and communication strategies be tailored to customer behaviors?"
   ]
  },
  {
   "cell_type": "markdown",
   "id": "ca20ab83",
   "metadata": {},
   "source": [
    "The initial phase of this project explored products. The subsequent phase will examine customer information by addressing the second question: how can marketing and communication strategies be matched to customer behaviors? This involves customer categorization, specifically identifying VIP (very important person) customers and those exhibiting lower engagement.\n",
    "\n",
    "- VIP customers generate the most profit for the store.\n",
    "\n",
    "- Less-engaged customers generate less profit.\n",
    "\n",
    "For example, events could be organized to foster loyalty among VIPs, and a campaign could be launched to engage less active customers.\n",
    "\n",
    "Before proceeding, the profit generated by each customer will be computed."
   ]
  },
  {
   "cell_type": "markdown",
   "id": "ffcd15f5",
   "metadata": {},
   "source": [
    "The first step is to write a query to join the `products`, `orders`, and `orderdetails` tables to have `customers` and `products` information in the same place:"
   ]
  },
  {
   "cell_type": "code",
   "execution_count": 6,
   "id": "fe80587a",
   "metadata": {},
   "outputs": [
    {
     "name": "stdout",
     "output_type": "stream",
     "text": [
      " * sqlite:///../project-files/stores.db\n",
      "Done.\n"
     ]
    },
    {
     "data": {
      "text/html": [
       "<table>\n",
       "    <thead>\n",
       "        <tr>\n",
       "            <th>customerNumber</th>\n",
       "            <th>profit</th>\n",
       "        </tr>\n",
       "    </thead>\n",
       "    <tbody>\n",
       "        <tr>\n",
       "            <td>141</td>\n",
       "            <td>326519.66</td>\n",
       "        </tr>\n",
       "        <tr>\n",
       "            <td>124</td>\n",
       "            <td>236769.39</td>\n",
       "        </tr>\n",
       "        <tr>\n",
       "            <td>151</td>\n",
       "            <td>72370.09</td>\n",
       "        </tr>\n",
       "        <tr>\n",
       "            <td>114</td>\n",
       "            <td>70311.07</td>\n",
       "        </tr>\n",
       "        <tr>\n",
       "            <td>119</td>\n",
       "            <td>60875.3</td>\n",
       "        </tr>\n",
       "        <tr>\n",
       "            <td>148</td>\n",
       "            <td>60477.38</td>\n",
       "        </tr>\n",
       "        <tr>\n",
       "            <td>187</td>\n",
       "            <td>60095.86</td>\n",
       "        </tr>\n",
       "        <tr>\n",
       "            <td>323</td>\n",
       "            <td>60013.99</td>\n",
       "        </tr>\n",
       "        <tr>\n",
       "            <td>131</td>\n",
       "            <td>58669.1</td>\n",
       "        </tr>\n",
       "        <tr>\n",
       "            <td>450</td>\n",
       "            <td>55931.37</td>\n",
       "        </tr>\n",
       "    </tbody>\n",
       "</table>"
      ],
      "text/plain": [
       "[(141, 326519.66),\n",
       " (124, 236769.39),\n",
       " (151, 72370.09),\n",
       " (114, 70311.07),\n",
       " (119, 60875.3),\n",
       " (148, 60477.38),\n",
       " (187, 60095.86),\n",
       " (323, 60013.99),\n",
       " (131, 58669.1),\n",
       " (450, 55931.37)]"
      ]
     },
     "execution_count": 6,
     "metadata": {},
     "output_type": "execute_result"
    }
   ],
   "source": [
    "%%sql\n",
    "SELECT o.customerNumber,\n",
    "\t   SUM(od.quantityOrdered * (od.priceEach - p.buyPrice)) AS profit\n",
    "  FROM orderdetails AS od\n",
    "  JOIN orders AS o\n",
    "    ON od.orderNumber = o.orderNumber\n",
    "  JOIN products AS p\n",
    "    ON od.productCode = p.productCode\n",
    " GROUP BY o.customerNumber\n",
    " ORDER BY profit DESC\n",
    " LIMIT 10;"
   ]
  },
  {
   "cell_type": "markdown",
   "id": "c2311c7e",
   "metadata": {},
   "source": [
    "Next, I will use the following query to find the top five VIP customers:"
   ]
  },
  {
   "cell_type": "code",
   "execution_count": 7,
   "id": "a6aeeb55",
   "metadata": {},
   "outputs": [
    {
     "name": "stdout",
     "output_type": "stream",
     "text": [
      " * sqlite:///../project-files/stores.db\n",
      "Done.\n"
     ]
    },
    {
     "data": {
      "text/html": [
       "<table>\n",
       "    <thead>\n",
       "        <tr>\n",
       "            <th>contactLastName</th>\n",
       "            <th>contactFirstName</th>\n",
       "            <th>city</th>\n",
       "            <th>country</th>\n",
       "            <th>profit</th>\n",
       "        </tr>\n",
       "    </thead>\n",
       "    <tbody>\n",
       "        <tr>\n",
       "            <td>Freyre</td>\n",
       "            <td>Diego </td>\n",
       "            <td>Madrid</td>\n",
       "            <td>Spain</td>\n",
       "            <td>326519.66</td>\n",
       "        </tr>\n",
       "        <tr>\n",
       "            <td>Nelson</td>\n",
       "            <td>Susan</td>\n",
       "            <td>San Rafael</td>\n",
       "            <td>USA</td>\n",
       "            <td>236769.39</td>\n",
       "        </tr>\n",
       "        <tr>\n",
       "            <td>Young</td>\n",
       "            <td>Jeff</td>\n",
       "            <td>NYC</td>\n",
       "            <td>USA</td>\n",
       "            <td>72370.09</td>\n",
       "        </tr>\n",
       "        <tr>\n",
       "            <td>Ferguson</td>\n",
       "            <td>Peter</td>\n",
       "            <td>Melbourne</td>\n",
       "            <td>Australia</td>\n",
       "            <td>70311.07</td>\n",
       "        </tr>\n",
       "        <tr>\n",
       "            <td>Labrune</td>\n",
       "            <td>Janine </td>\n",
       "            <td>Nantes</td>\n",
       "            <td>France</td>\n",
       "            <td>60875.3</td>\n",
       "        </tr>\n",
       "    </tbody>\n",
       "</table>"
      ],
      "text/plain": [
       "[('Freyre', 'Diego ', 'Madrid', 'Spain', 326519.66),\n",
       " ('Nelson', 'Susan', 'San Rafael', 'USA', 236769.39),\n",
       " ('Young', 'Jeff', 'NYC', 'USA', 72370.09),\n",
       " ('Ferguson', 'Peter', 'Melbourne', 'Australia', 70311.07),\n",
       " ('Labrune', 'Janine ', 'Nantes', 'France', 60875.3)]"
      ]
     },
     "execution_count": 7,
     "metadata": {},
     "output_type": "execute_result"
    }
   ],
   "source": [
    "%%sql\n",
    "WITH \n",
    "vip_customers AS (\n",
    "\tSELECT o.customerNumber,\n",
    "\t\t   SUM(od.quantityOrdered * (od.priceEach - p.buyPrice)) AS profit\n",
    "\t  FROM orderdetails AS od\n",
    "\t  JOIN orders AS o\n",
    "\t\tON od.orderNumber = o.orderNumber\n",
    "\t  JOIN products AS p\n",
    "\t\tON od.productCode = p.productCode\n",
    "\t GROUP BY o.customerNumber\n",
    ")\n",
    "\n",
    "SELECT c.contactLastName,\n",
    "\t   c.contactFirstName,\n",
    "\t   c.city,\n",
    "\t   c.country,\n",
    "\t   v.profit\n",
    "  FROM customers AS c\n",
    "  JOIN vip_customers AS v\n",
    "    ON c.customerNumber = v.customerNumber\n",
    " ORDER BY profit DESC\n",
    " LIMIT 5;"
   ]
  },
  {
   "cell_type": "markdown",
   "id": "59d83dd4",
   "metadata": {},
   "source": [
    "Lastly, the following query will find the top five least-engaged customers:"
   ]
  },
  {
   "cell_type": "code",
   "execution_count": 8,
   "id": "ba66c27d",
   "metadata": {},
   "outputs": [
    {
     "name": "stdout",
     "output_type": "stream",
     "text": [
      " * sqlite:///../project-files/stores.db\n",
      "Done.\n"
     ]
    },
    {
     "data": {
      "text/html": [
       "<table>\n",
       "    <thead>\n",
       "        <tr>\n",
       "            <th>contactLastName</th>\n",
       "            <th>contactFirstName</th>\n",
       "            <th>city</th>\n",
       "            <th>country</th>\n",
       "            <th>profit</th>\n",
       "        </tr>\n",
       "    </thead>\n",
       "    <tbody>\n",
       "        <tr>\n",
       "            <td>Young</td>\n",
       "            <td>Mary</td>\n",
       "            <td>Glendale</td>\n",
       "            <td>USA</td>\n",
       "            <td>2610.87</td>\n",
       "        </tr>\n",
       "        <tr>\n",
       "            <td>Taylor</td>\n",
       "            <td>Leslie</td>\n",
       "            <td>Brickhaven</td>\n",
       "            <td>USA</td>\n",
       "            <td>6586.02</td>\n",
       "        </tr>\n",
       "        <tr>\n",
       "            <td>Ricotti</td>\n",
       "            <td>Franco</td>\n",
       "            <td>Milan</td>\n",
       "            <td>Italy</td>\n",
       "            <td>9532.93</td>\n",
       "        </tr>\n",
       "        <tr>\n",
       "            <td>Schmitt</td>\n",
       "            <td>Carine </td>\n",
       "            <td>Nantes</td>\n",
       "            <td>France</td>\n",
       "            <td>10063.8</td>\n",
       "        </tr>\n",
       "        <tr>\n",
       "            <td>Smith</td>\n",
       "            <td>Thomas </td>\n",
       "            <td>London</td>\n",
       "            <td>UK</td>\n",
       "            <td>10868.04</td>\n",
       "        </tr>\n",
       "    </tbody>\n",
       "</table>"
      ],
      "text/plain": [
       "[('Young', 'Mary', 'Glendale', 'USA', 2610.87),\n",
       " ('Taylor', 'Leslie', 'Brickhaven', 'USA', 6586.02),\n",
       " ('Ricotti', 'Franco', 'Milan', 'Italy', 9532.93),\n",
       " ('Schmitt', 'Carine ', 'Nantes', 'France', 10063.8),\n",
       " ('Smith', 'Thomas ', 'London', 'UK', 10868.04)]"
      ]
     },
     "execution_count": 8,
     "metadata": {},
     "output_type": "execute_result"
    }
   ],
   "source": [
    "%%sql\n",
    "WITH \n",
    "vip_customers AS (\n",
    "\tSELECT o.customerNumber,\n",
    "\t\t   ROUND(SUM(od.quantityOrdered * (od.priceEach - p.buyPrice)), 2) AS profit\n",
    "\t  FROM orderdetails AS od\n",
    "\t  JOIN orders AS o\n",
    "\t\tON od.orderNumber = o.orderNumber\n",
    "\t  JOIN products AS p\n",
    "\t\tON od.productCode = p.productCode\n",
    "\t GROUP BY o.customerNumber\n",
    ")\n",
    "\n",
    "SELECT c.contactLastName,\n",
    "\t   c.contactFirstName,\n",
    "\t   c.city,\n",
    "\t   c.country,\n",
    "\t   v.profit\n",
    "  FROM customers AS c\n",
    "  JOIN vip_customers AS v\n",
    "    ON c.customerNumber = v.customerNumber\n",
    " ORDER BY profit ASC\n",
    " LIMIT 5;"
   ]
  },
  {
   "cell_type": "markdown",
   "id": "4345824f",
   "metadata": {},
   "source": [
    "### What is an appropriate budget for acquiring new customers?"
   ]
  },
  {
   "cell_type": "markdown",
   "id": "743e0528",
   "metadata": {},
   "source": [
    "Before addressing this question, the number of new customers acquired each month should be determined. This allows for an assessment of whether investing in new customer acquisition is worthwhile. The following query facilitates the retrieval of these figures:"
   ]
  },
  {
   "cell_type": "code",
   "execution_count": 9,
   "id": "244d7fdb",
   "metadata": {},
   "outputs": [
    {
     "name": "stdout",
     "output_type": "stream",
     "text": [
      " * sqlite:///../project-files/stores.db\n",
      "Done.\n"
     ]
    },
    {
     "data": {
      "text/html": [
       "<table>\n",
       "    <thead>\n",
       "        <tr>\n",
       "            <th>year_month</th>\n",
       "            <th>number_of_new_customers_props</th>\n",
       "            <th>new_customers_total_props</th>\n",
       "        </tr>\n",
       "    </thead>\n",
       "    <tbody>\n",
       "        <tr>\n",
       "            <td>200301</td>\n",
       "            <td>100.0</td>\n",
       "            <td>100.0</td>\n",
       "        </tr>\n",
       "        <tr>\n",
       "            <td>200302</td>\n",
       "            <td>100.0</td>\n",
       "            <td>100.0</td>\n",
       "        </tr>\n",
       "        <tr>\n",
       "            <td>200303</td>\n",
       "            <td>100.0</td>\n",
       "            <td>100.0</td>\n",
       "        </tr>\n",
       "        <tr>\n",
       "            <td>200304</td>\n",
       "            <td>100.0</td>\n",
       "            <td>100.0</td>\n",
       "        </tr>\n",
       "        <tr>\n",
       "            <td>200305</td>\n",
       "            <td>83.0</td>\n",
       "            <td>100.0</td>\n",
       "        </tr>\n",
       "        <tr>\n",
       "            <td>200306</td>\n",
       "            <td>100.0</td>\n",
       "            <td>100.0</td>\n",
       "        </tr>\n",
       "        <tr>\n",
       "            <td>200307</td>\n",
       "            <td>75.0</td>\n",
       "            <td>68.3</td>\n",
       "        </tr>\n",
       "        <tr>\n",
       "            <td>200308</td>\n",
       "            <td>66.0</td>\n",
       "            <td>54.2</td>\n",
       "        </tr>\n",
       "        <tr>\n",
       "            <td>200309</td>\n",
       "            <td>80.0</td>\n",
       "            <td>95.9</td>\n",
       "        </tr>\n",
       "        <tr>\n",
       "            <td>200310</td>\n",
       "            <td>69.0</td>\n",
       "            <td>69.3</td>\n",
       "        </tr>\n",
       "        <tr>\n",
       "            <td>200311</td>\n",
       "            <td>52.0</td>\n",
       "            <td>53.9</td>\n",
       "        </tr>\n",
       "        <tr>\n",
       "            <td>200312</td>\n",
       "            <td>60.0</td>\n",
       "            <td>54.9</td>\n",
       "        </tr>\n",
       "        <tr>\n",
       "            <td>200401</td>\n",
       "            <td>33.0</td>\n",
       "            <td>41.1</td>\n",
       "        </tr>\n",
       "        <tr>\n",
       "            <td>200402</td>\n",
       "            <td>33.0</td>\n",
       "            <td>26.5</td>\n",
       "        </tr>\n",
       "        <tr>\n",
       "            <td>200403</td>\n",
       "            <td>54.0</td>\n",
       "            <td>55.0</td>\n",
       "        </tr>\n",
       "        <tr>\n",
       "            <td>200404</td>\n",
       "            <td>40.0</td>\n",
       "            <td>40.3</td>\n",
       "        </tr>\n",
       "        <tr>\n",
       "            <td>200405</td>\n",
       "            <td>12.0</td>\n",
       "            <td>17.3</td>\n",
       "        </tr>\n",
       "        <tr>\n",
       "            <td>200406</td>\n",
       "            <td>33.0</td>\n",
       "            <td>43.9</td>\n",
       "        </tr>\n",
       "        <tr>\n",
       "            <td>200407</td>\n",
       "            <td>10.0</td>\n",
       "            <td>6.5</td>\n",
       "        </tr>\n",
       "        <tr>\n",
       "            <td>200408</td>\n",
       "            <td>18.0</td>\n",
       "            <td>26.2</td>\n",
       "        </tr>\n",
       "        <tr>\n",
       "            <td>200409</td>\n",
       "            <td>33.0</td>\n",
       "            <td>56.4</td>\n",
       "        </tr>\n",
       "    </tbody>\n",
       "</table>"
      ],
      "text/plain": [
       "[(200301, 100.0, 100.0),\n",
       " (200302, 100.0, 100.0),\n",
       " (200303, 100.0, 100.0),\n",
       " (200304, 100.0, 100.0),\n",
       " (200305, 83.0, 100.0),\n",
       " (200306, 100.0, 100.0),\n",
       " (200307, 75.0, 68.3),\n",
       " (200308, 66.0, 54.2),\n",
       " (200309, 80.0, 95.9),\n",
       " (200310, 69.0, 69.3),\n",
       " (200311, 52.0, 53.9),\n",
       " (200312, 60.0, 54.9),\n",
       " (200401, 33.0, 41.1),\n",
       " (200402, 33.0, 26.5),\n",
       " (200403, 54.0, 55.0),\n",
       " (200404, 40.0, 40.3),\n",
       " (200405, 12.0, 17.3),\n",
       " (200406, 33.0, 43.9),\n",
       " (200407, 10.0, 6.5),\n",
       " (200408, 18.0, 26.2),\n",
       " (200409, 33.0, 56.4)]"
      ]
     },
     "execution_count": 9,
     "metadata": {},
     "output_type": "execute_result"
    }
   ],
   "source": [
    "%%sql\n",
    "WITH \n",
    "\n",
    "payment_with_year_month_table AS (\n",
    "SELECT *, \n",
    "       CAST(SUBSTR(paymentDate, 1,4) AS INTEGER)*100 + CAST(SUBSTR(paymentDate, 6,7) AS INTEGER) AS year_month\n",
    "  FROM payments p\n",
    "),\n",
    "\n",
    "customers_by_month_table AS (\n",
    "SELECT p1.year_month, COUNT(*) AS number_of_customers, SUM(p1.amount) AS total\n",
    "  FROM payment_with_year_month_table p1\n",
    " GROUP BY p1.year_month\n",
    "),\n",
    "\n",
    "new_customers_by_month_table AS (\n",
    "SELECT p1.year_month, \n",
    "       COUNT(DISTINCT customerNumber) AS number_of_new_customers,\n",
    "       SUM(p1.amount) AS new_customer_total,\n",
    "       (SELECT number_of_customers\n",
    "          FROM customers_by_month_table c\n",
    "        WHERE c.year_month = p1.year_month) AS number_of_customers,\n",
    "       (SELECT total\n",
    "          FROM customers_by_month_table c\n",
    "         WHERE c.year_month = p1.year_month) AS total\n",
    "  FROM payment_with_year_month_table p1\n",
    " WHERE p1.customerNumber NOT IN (SELECT customerNumber\n",
    "                                   FROM payment_with_year_month_table p2\n",
    "                                  WHERE p2.year_month < p1.year_month)\n",
    " GROUP BY p1.year_month\n",
    ")\n",
    "\n",
    "SELECT year_month, \n",
    "       ROUND(number_of_new_customers*100/number_of_customers,1) AS number_of_new_customers_props,\n",
    "       ROUND(new_customer_total*100/total,1) AS new_customers_total_props\n",
    "  FROM new_customers_by_month_table;"
   ]
  },
  {
   "cell_type": "markdown",
   "id": "82176d25",
   "metadata": {},
   "source": [
    "The number of clients has been decreasing since 2003, with the lowest values observed in 2004. Notably, data from 2005, though present in the database, is absent from the preceding table, indicating no new customers since September 2004. This suggests that investing in customer acquisition is advisable.\n",
    "\n",
    "To determine a suitable acquisition budget, the Customer Lifetime Value (LTV) can be computed. LTV represents the average revenue generated by a customer. This value can then inform the allocation of marketing expenditure."
   ]
  },
  {
   "cell_type": "markdown",
   "id": "ad8afd42",
   "metadata": {},
   "source": [
    "The following query will compute the average of customer profits using the above CTE:"
   ]
  },
  {
   "cell_type": "code",
   "execution_count": 10,
   "id": "325a68b2",
   "metadata": {},
   "outputs": [
    {
     "name": "stdout",
     "output_type": "stream",
     "text": [
      " * sqlite:///../project-files/stores.db\n",
      "Done.\n"
     ]
    },
    {
     "data": {
      "text/html": [
       "<table>\n",
       "    <thead>\n",
       "        <tr>\n",
       "            <th>ltv</th>\n",
       "        </tr>\n",
       "    </thead>\n",
       "    <tbody>\n",
       "        <tr>\n",
       "            <td>39039.59</td>\n",
       "        </tr>\n",
       "    </tbody>\n",
       "</table>"
      ],
      "text/plain": [
       "[(39039.59,)]"
      ]
     },
     "execution_count": 10,
     "metadata": {},
     "output_type": "execute_result"
    }
   ],
   "source": [
    "%%sql\n",
    "WITH \n",
    "vip_customers AS (\n",
    "\tSELECT o.customerNumber,\n",
    "\t\t   SUM(od.quantityOrdered * (od.priceEach - p.buyPrice)) AS profit\n",
    "\t  FROM orderdetails AS od\n",
    "\t  JOIN orders AS o\n",
    "\t\tON od.orderNumber = o.orderNumber\n",
    "\t  JOIN products AS p\n",
    "\t\tON od.productCode = p.productCode\n",
    "\t GROUP BY o.customerNumber\n",
    ")\n",
    "\n",
    "SELECT ROUND(AVG(profit), 2) AS ltv\n",
    "  FROM vip_customers;"
   ]
  },
  {
   "cell_type": "markdown",
   "id": "d5a91761",
   "metadata": {},
   "source": [
    "LTV indicates the average profit a customer generates throughout their engagement with the store. This metric allows for the prediction of future profit. Therefore, acquiring ten new customers next month is projected to yield 39,039.59 dollars, and this prediction can inform decisions regarding the budget for new customer acquisition."
   ]
  },
  {
   "cell_type": "markdown",
   "id": "9cff6197",
   "metadata": {},
   "source": [
    "## Conclusion"
   ]
  },
  {
   "cell_type": "markdown",
   "id": "7b9f79d0",
   "metadata": {},
   "source": [
    "In this project, analysis of the model car sales database provided insights into product restocking needs, customer behavior for tailored marketing, and a potential budget for acquiring new customers. To determine product restocking priorities, the project calculated a \"low stock\" metric and product performance, identifying products with high order demand relative to stock and top-selling items. Combining these metrics highlighted specific products, such as the \"1960 BSA Gold Star DBD34,\" as requiring close attention for restocking."
   ]
  },
  {
   "cell_type": "markdown",
   "id": "cc2d1c60",
   "metadata": {},
   "source": [
    "To understand customer behavior, the project categorized customers based on their generated profit, identifying VIP and less-engaged segments. This analysis suggests targeted strategies, such as loyalty events for high-profit customers and engagement campaigns for those with lower activity. Finally, by examining new customer acquisition trends and calculating the Customer Lifetime Value (LTV), the project established a basis for determining a suitable budget for attracting new customers, projecting potential future revenue based on average customer profitability."
   ]
  }
 ],
 "metadata": {
  "kernelspec": {
   "display_name": ".venv",
   "language": "python",
   "name": "python3"
  },
  "language_info": {
   "codemirror_mode": {
    "name": "ipython",
    "version": 3
   },
   "file_extension": ".py",
   "mimetype": "text/x-python",
   "name": "python",
   "nbconvert_exporter": "python",
   "pygments_lexer": "ipython3",
   "version": "3.12.10"
  }
 },
 "nbformat": 4,
 "nbformat_minor": 5
}
